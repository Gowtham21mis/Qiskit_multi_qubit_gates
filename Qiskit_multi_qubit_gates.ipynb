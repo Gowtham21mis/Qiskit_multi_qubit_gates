{
  "cells": [
    {
      "cell_type": "code",
      "execution_count": 1,
      "metadata": {
        "id": "Mx6284lurNt1"
      },
      "outputs": [
        {
          "name": "stdout",
          "output_type": "stream",
          "text": [
            "Requirement already satisfied: qiskit in c:\\users\\k madhumitha\\appdata\\local\\programs\\python\\python313\\lib\\site-packages (2.2.1)\n",
            "Requirement already satisfied: qiskit-aer in c:\\users\\k madhumitha\\appdata\\local\\programs\\python\\python313\\lib\\site-packages (0.17.2)\n",
            "Requirement already satisfied: rustworkx>=0.15.0 in c:\\users\\k madhumitha\\appdata\\local\\programs\\python\\python313\\lib\\site-packages (from qiskit) (0.17.1)\n",
            "Requirement already satisfied: numpy<3,>=1.17 in c:\\users\\k madhumitha\\appdata\\local\\programs\\python\\python313\\lib\\site-packages (from qiskit) (2.3.1)\n",
            "Requirement already satisfied: scipy>=1.5 in c:\\users\\k madhumitha\\appdata\\local\\programs\\python\\python313\\lib\\site-packages (from qiskit) (1.16.1)\n",
            "Requirement already satisfied: dill>=0.3 in c:\\users\\k madhumitha\\appdata\\local\\programs\\python\\python313\\lib\\site-packages (from qiskit) (0.4.0)\n",
            "Requirement already satisfied: stevedore>=3.0.0 in c:\\users\\k madhumitha\\appdata\\local\\programs\\python\\python313\\lib\\site-packages (from qiskit) (5.5.0)\n",
            "Requirement already satisfied: typing-extensions in c:\\users\\k madhumitha\\appdata\\local\\programs\\python\\python313\\lib\\site-packages (from qiskit) (4.14.1)\n",
            "Requirement already satisfied: psutil>=5 in c:\\users\\k madhumitha\\appdata\\local\\programs\\python\\python313\\lib\\site-packages (from qiskit-aer) (7.1.0)\n",
            "Requirement already satisfied: python-dateutil>=2.8.0 in c:\\users\\k madhumitha\\appdata\\local\\programs\\python\\python313\\lib\\site-packages (from qiskit-aer) (2.9.0.post0)\n",
            "Requirement already satisfied: six>=1.5 in c:\\users\\k madhumitha\\appdata\\local\\programs\\python\\python313\\lib\\site-packages (from python-dateutil>=2.8.0->qiskit-aer) (1.17.0)\n"
          ]
        }
      ],
      "source": [
        "!pip install qiskit qiskit-aer --upgrade"
      ]
    },
    {
      "cell_type": "code",
      "execution_count": 2,
      "metadata": {
        "id": "VPOwLacGrCdU"
      },
      "outputs": [
        {
          "name": "stdout",
          "output_type": "stream",
          "text": [
            "Quantum Circuit:\n",
            "        ┌───┐            ░ ┌─┐   \n",
            "   q_0: ┤ H ├──■───■──X──░─┤M├───\n",
            "        └───┘┌─┴─┐ │  │  ░ └╥┘┌─┐\n",
            "   q_1: ─────┤ X ├─■──X──░──╫─┤M├\n",
            "             └───┘       ░  ║ └╥┘\n",
            "   c: 2/════════════════════╬══╬═\n",
            "                            ║  ║ \n",
            "meas: 2/════════════════════╩══╩═\n",
            "                            0  1 \n",
            "\n",
            "Measurement Counts: {'11 00': 496, '00 00': 528}\n"
          ]
        }
      ],
      "source": [
        "from qiskit import QuantumCircuit, transpile\n",
        "from qiskit_aer import AerSimulator\n",
        "\n",
        "# Initialize simulator\n",
        "sim = AerSimulator()\n",
        "\n",
        "# Create a 2-qubit circuit\n",
        "qc = QuantumCircuit(2, 2)\n",
        "\n",
        "# --- Apply multi-qubit gates ---\n",
        "qc.h(0)        # Hadamard on qubit 0\n",
        "qc.cx(0, 1)    # CNOT with control 0 and target 1\n",
        "qc.cz(0, 1)    # Controlled-Z\n",
        "qc.swap(0, 1)  # Swap qubit 0 and 1\n",
        "\n",
        "# Measure all qubits\n",
        "qc.measure_all()\n",
        "\n",
        "# Display circuit\n",
        "print(\"Quantum Circuit:\")\n",
        "print(qc.draw())\n",
        "\n",
        "# Run simulation\n",
        "compiled = transpile(qc, sim)\n",
        "result = sim.run(compiled, shots=1024).result()\n",
        "\n",
        "# Display results\n",
        "counts = result.get_counts()\n",
        "print(\"\\nMeasurement Counts:\", counts)\n"
      ]
    },
    {
      "cell_type": "markdown",
      "metadata": {},
      "source": [
        "\n",
        "1. Control/Target Variation"
      ]
    },
    {
      "cell_type": "code",
      "execution_count": 3,
      "metadata": {},
      "outputs": [
        {
          "name": "stdout",
          "output_type": "stream",
          "text": [
            "Counts (CNOT/CZ control=1): {'11 00': 530, '00 00': 494}\n"
          ]
        }
      ],
      "source": [
        "from qiskit import QuantumCircuit, transpile\n",
        "from qiskit_aer import AerSimulator\n",
        "from qiskit.visualization import plot_histogram\n",
        "import matplotlib.pyplot as plt\n",
        "\n",
        "sim = AerSimulator()\n",
        "# Create circuit: Hadamard on q1, CNOT control=1->target=0, CZ control=1->target=0\n",
        "qc_var = QuantumCircuit(2, 2)\n",
        "qc_var.h(1)         # Hadamard on qubit 1\n",
        "qc_var.cx(1, 0)     # CNOT with control 1, target 0\n",
        "qc_var.cz(1, 0)     # CZ with control 1, target 0\n",
        "qc_var.swap(0, 1)   # SWAP\n",
        "qc_var.measure_all()\n",
        "\n",
        "compiled = transpile(qc_var, sim)\n",
        "result = sim.run(compiled, shots=1024).result()\n",
        "counts = result.get_counts()\n",
        "print(\"Counts (CNOT/CZ control=1):\", counts)\n",
        "plot_histogram(counts)\n",
        "plt.show()"
      ]
    },
    {
      "cell_type": "markdown",
      "metadata": {},
      "source": [
        "2. Gate Removal"
      ]
    },
    {
      "cell_type": "code",
      "execution_count": 4,
      "metadata": {},
      "outputs": [
        {
          "name": "stdout",
          "output_type": "stream",
          "text": [
            "Counts without SWAP: {'11 00': 507, '00 00': 517}\n"
          ]
        }
      ],
      "source": [
        "qc_remove = QuantumCircuit(2, 2)\n",
        "qc_remove.h(0)      # Hadamard on qubit 0\n",
        "qc_remove.cx(0, 1)  # CNOT with control 0, target 1\n",
        "qc_remove.cz(0, 1)  # CZ\n",
        "# Removed SWAP!\n",
        "qc_remove.measure_all()\n",
        "\n",
        "compiled = transpile(qc_remove, sim)\n",
        "result = sim.run(compiled, shots=1024).result()\n",
        "counts = result.get_counts()\n",
        "print(\"Counts without SWAP:\", counts)\n",
        "plot_histogram(counts)\n",
        "plt.show()"
      ]
    },
    {
      "cell_type": "markdown",
      "metadata": {},
      "source": [
        "3. Add Another Hadamard"
      ]
    },
    {
      "cell_type": "code",
      "execution_count": 5,
      "metadata": {},
      "outputs": [
        {
          "name": "stdout",
          "output_type": "stream",
          "text": [
            "Counts with H on qubit 1: {'00 00': 243, '10 00': 253, '11 00': 262, '01 00': 266}\n"
          ]
        }
      ],
      "source": [
        "qc_h2 = QuantumCircuit(2, 2)\n",
        "qc_h2.h(0)\n",
        "qc_h2.h(1)      # Hadamard added to qubit 1\n",
        "qc_h2.cx(0, 1)\n",
        "qc_h2.cz(0, 1)\n",
        "qc_h2.swap(0, 1)\n",
        "qc_h2.measure_all()\n",
        "\n",
        "compiled = transpile(qc_h2, sim)\n",
        "result = sim.run(compiled, shots=1024).result()\n",
        "counts = result.get_counts()\n",
        "print(\"Counts with H on qubit 1:\", counts)\n",
        "plot_histogram(counts)\n",
        "plt.show()"
      ]
    }
  ],
  "metadata": {
    "colab": {
      "provenance": []
    },
    "kernelspec": {
      "display_name": "Python 3",
      "name": "python3"
    },
    "language_info": {
      "codemirror_mode": {
        "name": "ipython",
        "version": 3
      },
      "file_extension": ".py",
      "mimetype": "text/x-python",
      "name": "python",
      "nbconvert_exporter": "python",
      "pygments_lexer": "ipython3",
      "version": "3.13.5"
    }
  },
  "nbformat": 4,
  "nbformat_minor": 0
}
